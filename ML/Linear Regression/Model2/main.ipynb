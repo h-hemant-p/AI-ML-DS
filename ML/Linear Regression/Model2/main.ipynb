{
  "cells": [
    {
      "cell_type": "markdown",
      "metadata": {},
      "source": [
        "# Multiple Linear Regration"
      ]
    },
    {
      "cell_type": "code",
      "execution_count": 1,
      "metadata": {
        "colab": {
          "base_uri": "https://localhost:8080/"
        },
        "id": "WYcmAqLOzb6T",
        "outputId": "3e1fbc37-9dd8-4941-8491-dda2a0001189"
      },
      "outputs": [
        {
          "name": "stdout",
          "output_type": "stream",
          "text": [
            "       Age  Gender  Education Level  Job Title  Years of Experience    Salary\n",
            "0     32.0       1                0        175                  5.0   90000.0\n",
            "1     28.0       0                3         18                  3.0   65000.0\n",
            "2     45.0       1                5        144                 15.0  150000.0\n",
            "3     36.0       0                0        115                  7.0   60000.0\n",
            "4     52.0       1                3         25                 20.0  200000.0\n",
            "...    ...     ...              ...        ...                  ...       ...\n",
            "6699  49.0       0                5         33                 20.0  200000.0\n",
            "6700  32.0       1                2        115                  3.0   50000.0\n",
            "6701  30.0       0                1         41                  4.0   55000.0\n",
            "6702  46.0       1                4         96                 14.0  140000.0\n",
            "6703  26.0       0                2        117                  1.0   35000.0\n",
            "\n",
            "[6698 rows x 6 columns]\n"
          ]
        },
        {
          "data": {
            "text/plain": [
              "0.6790202994594187"
            ]
          },
          "execution_count": 1,
          "metadata": {},
          "output_type": "execute_result"
        }
      ],
      "source": [
        "#linear regression\n",
        "#load the dataset\n",
        "import pandas as pd\n",
        "data=pd.read_csv(\"Salary_Data.csv\")\n",
        "# print(data)\n",
        "#data cleaning\n",
        "# data.isna().sum()\n",
        "data.dropna(inplace=True)\n",
        "data.isna().sum()\n",
        "#data preprocesssing\n",
        "from sklearn.preprocessing import LabelEncoder\n",
        "for i in data.columns:\n",
        "  if data[i].dtype=='object':\n",
        "    le=LabelEncoder()\n",
        "    data[i]=le.fit_transform(data[i])\n",
        "\n",
        "print(data)\n",
        "#split x and y x?y?  x-independent   y-dependent\n",
        "x=data.iloc[:,:-1]\n",
        "y=data.iloc[:,-1]\n",
        "#split into train and test\n",
        "from sklearn.model_selection import train_test_split\n",
        "xtrain,xtest,ytrain,ytest=train_test_split(x,y,train_size=0.80,random_state=52)\n",
        "#learn train using lr\n",
        "from sklearn.linear_model import LinearRegression\n",
        "model=LinearRegression()\n",
        "model.fit(xtrain,ytrain)\n",
        "yp=model.predict(xtest)\n",
        "from sklearn.metrics import r2_score\n",
        "r2_score(ytest,yp)\n"
      ]
    },
    {
      "cell_type": "code",
      "execution_count": null,
      "metadata": {
        "id": "LJU8NtASUi5n"
      },
      "outputs": [],
      "source": []
    }
  ],
  "metadata": {
    "colab": {
      "provenance": [],
      "toc_visible": true
    },
    "kernelspec": {
      "display_name": "Python 3",
      "name": "python3"
    },
    "language_info": {
      "codemirror_mode": {
        "name": "ipython",
        "version": 3
      },
      "file_extension": ".py",
      "mimetype": "text/x-python",
      "name": "python",
      "nbconvert_exporter": "python",
      "pygments_lexer": "ipython3",
      "version": "3.13.0"
    }
  },
  "nbformat": 4,
  "nbformat_minor": 0
}
