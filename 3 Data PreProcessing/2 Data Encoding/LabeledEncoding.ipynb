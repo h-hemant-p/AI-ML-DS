{
 "cells": [
  {
   "cell_type": "markdown",
   "id": "5791a836",
   "metadata": {},
   "source": [
    "Label Encoding is a technique that converts each category into a unique integer value.\n",
    "\n",
    "It’s mostly used for ordinal or nominal categorical variables, though with some caveats (explained below).\n",
    "\n",
    "How Label Encoding Works\n",
    "Identify unique categories in a column.\n",
    "\n",
    "Assign a unique integer to each category.\n",
    "\n",
    "Replace the original category with its integer label.\n",
    "\n",
    "Example 1 — Simple Fruit Categories\n",
    "| Fruit  | Encoded Value |\n",
    "| ------ | ------------- |\n",
    "| Apple  | 0             |\n",
    "| Banana | 1             |\n",
    "| Mango  | 2             |\n",
    "| Banana | 1             |\n",
    "| Apple  | 0             |\n",
    "\n",
    "Here:\n",
    "\n",
    "\"Apple\" → 0\n",
    "\n",
    "\"Banana\" → 1\n",
    "\n",
    "\"Mango\" → 2\n",
    "\n",
    "Python example with sklearn:"
   ]
  },
  {
   "cell_type": "code",
   "execution_count": null,
   "id": "44a069a6",
   "metadata": {},
   "outputs": [],
   "source": [
    "from sklearn.preprocessing import LabelEncoder\n",
    "\n",
    "fruits = [\"Apple\", \"Banana\", \"Mango\", \"Banana\", \"Apple\"]\n",
    "encoder = LabelEncoder()\n",
    "encoded_fruits = encoder.fit_transform(fruits)\n",
    "\n",
    "print(encoded_fruits)  # [0 1 2 1 0]\n",
    "print(encoder.classes_)  # ['Apple' 'Banana' 'Mango']\n"
   ]
  },
  {
   "cell_type": "markdown",
   "id": "0eb2189f",
   "metadata": {},
   "source": [
    "⚠️ When to be Careful\n",
    "For nominal data (no natural order, like fruits or countries), Label Encoding introduces an artificial order that might confuse models like linear regression or KNN.\n",
    "For example: \"Apple\"=0, \"Banana\"=1, \"Mango\"=2 — the model might incorrectly assume Mango > Banana > Apple.\n",
    "\n",
    "In such cases, One-Hot Encoding is usually better.\n",
    "\n",
    "Summary \n",
    "| Feature Type | Label Encoding Good? | Alternative if not |\n",
    "| ------------ | -------------------- | ------------------ |\n",
    "| Ordinal      | ✅ Yes                | N/A                |\n",
    "| Nominal      | ⚠️ Risky             | One-Hot Encoding   |\n"
   ]
  }
 ],
 "metadata": {
  "language_info": {
   "name": "python"
  }
 },
 "nbformat": 4,
 "nbformat_minor": 5
}
