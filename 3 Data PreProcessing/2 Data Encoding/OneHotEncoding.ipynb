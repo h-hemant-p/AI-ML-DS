{
 "cells": [
  {
   "cell_type": "markdown",
   "id": "16856765",
   "metadata": {},
   "source": [
    "One-Hot Encoding (OHE) transforms each category into a new binary column (0 or 1) — marking presence (1) or absence (0) of that category.\n",
    "\n",
    "It’s especially useful for nominal categorical variables (no natural order).\n",
    "\n",
    "How One-Hot Encoding Works\n",
    "Identify unique categories in the feature.\n",
    "\n",
    "Create a new column for each category.\n",
    "\n",
    "Assign 1 where the row matches that category, else 0.\n",
    "\n",
    "Example 1 — Fruits\n",
    "Original data:\n",
    "| Fruit  |\n",
    "| ------ |\n",
    "| Apple  |\n",
    "| Banana |\n",
    "| Mango  |\n",
    "| Banana |\n",
    "| Apple  |\n",
    "\n",
    "One-Hot Encoded:\n",
    "| Apple | Banana | Mango |\n",
    "| ----- | ------ | ----- |\n",
    "| 1     | 0      | 0     |\n",
    "| 0     | 1      | 0     |\n",
    "| 0     | 0      | 1     |\n",
    "| 0     | 1      | 0     |\n",
    "| 1     | 0      | 0     |\n",
    "\n",
    "OHE removes any numerical relationship\n",
    "\n",
    "Python Example with pandas"
   ]
  },
  {
   "cell_type": "code",
   "execution_count": null,
   "id": "8fa199cf",
   "metadata": {},
   "outputs": [],
   "source": [
    "import pandas as pd\n",
    "\n",
    "data = pd.DataFrame({\n",
    "    'Fruit': [\"Apple\", \"Banana\", \"Mango\", \"Banana\", \"Apple\"]\n",
    "})\n",
    "\n",
    "# One-Hot Encoding\n",
    "encoded = pd.get_dummies(data, columns=['Fruit'])\n",
    "print(encoded)\n"
   ]
  },
  {
   "cell_type": "markdown",
   "id": "5ec864e0",
   "metadata": {},
   "source": [
    "When to Use One-Hot Encoding\n",
    "✅ Nominal variables (no order, like colors, countries, brands)\n",
    "✅ When you want to avoid artificial numeric relationships\n",
    "⚠️ Not great when there are too many unique categories (can create very wide datasets — “curse of dimensionality”)."
   ]
  },
  {
   "cell_type": "markdown",
   "id": "26163230",
   "metadata": {},
   "source": [
    "Label Encoding vs One-Hot Encoding\n",
    "| Feature        | Label Encoding | One-Hot Encoding |\n",
    "| -------------- | -------------- | ---------------- |\n",
    "| Apple          | 0              | 1 0 0            |\n",
    "| Banana         | 1              | 0 1 0            |\n",
    "| Mango          | 2              | 0 0 1            |\n",
    "| Creates Order? | Yes            | No               |\n",
    "| Columns        | 1              | #categories      |\n"
   ]
  }
 ],
 "metadata": {
  "language_info": {
   "name": "python"
  }
 },
 "nbformat": 4,
 "nbformat_minor": 5
}
