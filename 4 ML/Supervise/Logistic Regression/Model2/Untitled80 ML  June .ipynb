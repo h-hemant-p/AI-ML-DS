{
  "cells": [
    {
      "cell_type": "code",
      "execution_count": null,
      "metadata": {
        "colab": {
          "base_uri": "https://localhost:8080/"
        },
        "id": "3Px_4kNdWpJa",
        "outputId": "8d04dd84-77a4-4099-dd02-621a64e98645"
      },
      "outputs": [
        {
          "name": "stdout",
          "output_type": "stream",
          "text": [
            "     Gender  Age  EstimatedSalary  Purchased\n",
            "0         1   19            19000          0\n",
            "1         1   35            20000          0\n",
            "2         0   26            43000          0\n",
            "3         0   27            57000          0\n",
            "4         1   19            76000          0\n",
            "..      ...  ...              ...        ...\n",
            "395       0   46            41000          1\n",
            "396       1   51            23000          1\n",
            "397       0   50            20000          1\n",
            "398       1   36            33000          0\n",
            "399       0   49            36000          1\n",
            "\n",
            "[400 rows x 4 columns]\n",
            "0.8583333333333333\n"
          ]
        },
        {
          "name": "stderr",
          "output_type": "stream",
          "text": [
            "/usr/local/lib/python3.11/dist-packages/sklearn/linear_model/_logistic.py:465: ConvergenceWarning: lbfgs failed to converge (status=1):\n",
            "STOP: TOTAL NO. OF ITERATIONS REACHED LIMIT.\n",
            "\n",
            "Increase the number of iterations (max_iter) or scale the data as shown in:\n",
            "    https://scikit-learn.org/stable/modules/preprocessing.html\n",
            "Please also refer to the documentation for alternative solver options:\n",
            "    https://scikit-learn.org/stable/modules/linear_model.html#logistic-regression\n",
            "  n_iter_i = _check_optimize_result(\n"
          ]
        }
      ],
      "source": [
        "# pip install scikit-learn\n",
        "#logistic regression\n",
        "#load the dataset\n",
        "import pandas as pd\n",
        "data=pd.read_csv(\"/content/User_Data.csv\")\n",
        "# print(data)\n",
        "#data cleaning\n",
        "data.drop('User ID',inplace=True,axis=1)\n",
        "# print(data)\n",
        "data.isna().sum()\n",
        "#data preprocessing\n",
        "from sklearn.preprocessing import LabelEncoder\n",
        "le=LabelEncoder()\n",
        "data['Gender']=le.fit_transform(data['Gender'])\n",
        "print(data)\n",
        "# split into x and y xy\n",
        "X=data.iloc[:,:-1]\n",
        "y=data.iloc[:,-1]\n",
        "\n",
        "#split train test\n",
        "from sklearn.model_selection import train_test_split\n",
        "xtrain,xtest,ytrain,ytest=train_test_split(X,y,train_size=0.70,random_state=42)\n",
        "from sklearn.linear_model import LogisticRegression\n",
        "\n",
        "# Creating Model Object\n",
        "model=LogisticRegression()\n",
        "model.fit(xtrain,ytrain)\n",
        "yp=model.predict(xtest)\n",
        "#yp=model.predict_proba(xtest)     probabilities will come in range 0 to 1 so if >=0.5 then belongs to class1 else class0\n",
        "from sklearn.metrics import accuracy_score\n",
        "print(accuracy_score(ytest,yp))\n"
      ]
    }
  ],
  "metadata": {
    "colab": {
      "provenance": []
    },
    "kernelspec": {
      "display_name": "Python 3",
      "name": "python3"
    },
    "language_info": {
      "name": "python"
    }
  },
  "nbformat": 4,
  "nbformat_minor": 0
}
