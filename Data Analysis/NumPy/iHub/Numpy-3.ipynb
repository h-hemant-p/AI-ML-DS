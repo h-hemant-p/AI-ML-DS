{
 "cells": [
  {
   "cell_type": "markdown",
   "id": "bc2b0e7e-4ce8-4302-8536-d91bc50127eb",
   "metadata": {},
   "source": [
    "#### Array manipulation"
   ]
  },
  {
   "cell_type": "code",
   "execution_count": 1,
   "id": "37c1da25-6dc1-4e4e-9da4-30df2d632b16",
   "metadata": {},
   "outputs": [],
   "source": [
    "import numpy as np"
   ]
  },
  {
   "cell_type": "code",
   "execution_count": 2,
   "id": "52bab25b-1ac1-4e3a-a524-b49f6f6426c9",
   "metadata": {},
   "outputs": [],
   "source": [
    "ar1 = np.array([[10,20],[30,40]])\n",
    "ar2 = np.array([[50,60],[70,80]])"
   ]
  },
  {
   "cell_type": "code",
   "execution_count": 3,
   "id": "2724de89-c70a-4692-a11e-6d4425990aa6",
   "metadata": {},
   "outputs": [
    {
     "data": {
      "text/plain": [
       "array([[50, 60],\n",
       "       [70, 80]])"
      ]
     },
     "execution_count": 3,
     "metadata": {},
     "output_type": "execute_result"
    }
   ],
   "source": [
    "ar2"
   ]
  },
  {
   "cell_type": "code",
   "execution_count": 5,
   "id": "73ffca14-8ee6-40b8-812f-e333015f4b59",
   "metadata": {},
   "outputs": [
    {
     "data": {
      "text/plain": [
       "array([[10, 20],\n",
       "       [30, 40],\n",
       "       [50, 60],\n",
       "       [70, 80]])"
      ]
     },
     "execution_count": 5,
     "metadata": {},
     "output_type": "execute_result"
    }
   ],
   "source": [
    "np.concatenate([ar1,ar2], axis = 0) # axis = 0 --> rows 4 rows and 2 columns"
   ]
  },
  {
   "cell_type": "code",
   "execution_count": 9,
   "id": "c8ed81c7-bc12-4886-9e1a-b01846c94952",
   "metadata": {},
   "outputs": [
    {
     "data": {
      "text/plain": [
       "array([[10, 20],\n",
       "       [30, 40],\n",
       "       [50, 60],\n",
       "       [70, 80]])"
      ]
     },
     "execution_count": 9,
     "metadata": {},
     "output_type": "execute_result"
    }
   ],
   "source": [
    "np.vstack([ar1,ar2])"
   ]
  },
  {
   "cell_type": "code",
   "execution_count": 7,
   "id": "6ef9ca4a-5e70-45b7-bd32-c32f2f14da68",
   "metadata": {},
   "outputs": [
    {
     "data": {
      "text/plain": [
       "array([[10, 20],\n",
       "       [30, 40],\n",
       "       [50, 60],\n",
       "       [70, 80]])"
      ]
     },
     "execution_count": 7,
     "metadata": {},
     "output_type": "execute_result"
    }
   ],
   "source": [
    "np.row_stack([ar1,ar2])"
   ]
  },
  {
   "cell_type": "code",
   "execution_count": 6,
   "id": "faa899d5-c51c-4da2-8ebf-90d5a7681e79",
   "metadata": {},
   "outputs": [
    {
     "data": {
      "text/plain": [
       "array([[10, 20, 50, 60],\n",
       "       [30, 40, 70, 80]])"
      ]
     },
     "execution_count": 6,
     "metadata": {},
     "output_type": "execute_result"
    }
   ],
   "source": [
    "np.concatenate([ar1,ar2], axis = 1) # axis = 1 --> columns --> 2 rows and 4 columns"
   ]
  },
  {
   "cell_type": "code",
   "execution_count": 10,
   "id": "5c66dc3a-3f89-4c8a-a104-c985d9eb2190",
   "metadata": {},
   "outputs": [
    {
     "data": {
      "text/plain": [
       "array([[10, 20, 50, 60],\n",
       "       [30, 40, 70, 80]])"
      ]
     },
     "execution_count": 10,
     "metadata": {},
     "output_type": "execute_result"
    }
   ],
   "source": [
    "np.column_stack([ar1,ar2])"
   ]
  },
  {
   "cell_type": "code",
   "execution_count": 12,
   "id": "f614acd3-a8f4-46e6-b3d3-090ebced69b8",
   "metadata": {},
   "outputs": [
    {
     "data": {
      "text/plain": [
       "array([[10, 20, 50, 60],\n",
       "       [30, 40, 70, 80]])"
      ]
     },
     "execution_count": 12,
     "metadata": {},
     "output_type": "execute_result"
    }
   ],
   "source": [
    "np.hstack([ar1,ar2])"
   ]
  },
  {
   "cell_type": "code",
   "execution_count": 13,
   "id": "a9df72e8-2d29-4a12-ab40-261a9573f59a",
   "metadata": {},
   "outputs": [
    {
     "data": {
      "text/plain": [
       "array([[10, 20, 50, 60, 10, 20],\n",
       "       [30, 40, 70, 80, 30, 40]])"
      ]
     },
     "execution_count": 13,
     "metadata": {},
     "output_type": "execute_result"
    }
   ],
   "source": [
    "ar3 = np.column_stack([ar1,ar2,ar1])\n",
    "ar3"
   ]
  },
  {
   "cell_type": "code",
   "execution_count": 14,
   "id": "af06b960-85ff-4d74-830e-b3ccdf26e90a",
   "metadata": {},
   "outputs": [
    {
     "data": {
      "text/plain": [
       "[array([[10, 20],\n",
       "        [30, 40]]),\n",
       " array([[50, 60],\n",
       "        [70, 80]]),\n",
       " array([[10, 20],\n",
       "        [30, 40]])]"
      ]
     },
     "execution_count": 14,
     "metadata": {},
     "output_type": "execute_result"
    }
   ],
   "source": [
    "np.hsplit(ar3,3) # divide this array into 3 equal parts"
   ]
  },
  {
   "cell_type": "code",
   "execution_count": null,
   "id": "a3aeb5d3-8fe2-4a62-832e-26782cdbe9f9",
   "metadata": {},
   "outputs": [],
   "source": []
  }
 ],
 "metadata": {
  "kernelspec": {
   "display_name": "Python 3 (ipykernel)",
   "language": "python",
   "name": "python3"
  },
  "language_info": {
   "codemirror_mode": {
    "name": "ipython",
    "version": 3
   },
   "file_extension": ".py",
   "mimetype": "text/x-python",
   "name": "python",
   "nbconvert_exporter": "python",
   "pygments_lexer": "ipython3",
   "version": "3.11.7"
  },
  "widgets": {
   "application/vnd.jupyter.widget-state+json": {
    "state": {},
    "version_major": 2,
    "version_minor": 0
   }
  }
 },
 "nbformat": 4,
 "nbformat_minor": 5
}
