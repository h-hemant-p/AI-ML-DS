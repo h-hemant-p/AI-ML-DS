{
 "cells": [
  {
   "cell_type": "code",
   "execution_count": 2,
   "id": "e154e53c-4d69-46f0-81c4-fb92bcf29145",
   "metadata": {},
   "outputs": [
    {
     "ename": "ModuleNotFoundError",
     "evalue": "No module named 'xyz'",
     "output_type": "error",
     "traceback": [
      "\u001b[1;31m---------------------------------------------------------------------------\u001b[0m",
      "\u001b[1;31mModuleNotFoundError\u001b[0m                       Traceback (most recent call last)",
      "Cell \u001b[1;32mIn[2], line 1\u001b[0m\n\u001b[1;32m----> 1\u001b[0m \u001b[38;5;28;01mimport\u001b[39;00m \u001b[38;5;21;01mxyz\u001b[39;00m\n",
      "\u001b[1;31mModuleNotFoundError\u001b[0m: No module named 'xyz'"
     ]
    }
   ],
   "source": [
    "import xyz # random word (module which is not available in python )"
   ]
  },
  {
   "cell_type": "code",
   "execution_count": null,
   "id": "9925b9ae-796a-4bfe-9bff-6df42eb82bca",
   "metadata": {},
   "outputs": [],
   "source": [
    "# if you got modulenotfounderror while working on import \n",
    "# ModuleNotFoundError:\n",
    "\n",
    "# 1. Spelling mistake\n",
    "# 2. case sensistive \n",
    "# 3. Re install your module"
   ]
  },
  {
   "cell_type": "code",
   "execution_count": null,
   "id": "bdc2d5ba-83c2-4d12-ac2f-53437201bde0",
   "metadata": {},
   "outputs": [],
   "source": [
    "# go to pypi website ( www.pypi.org )\n",
    "# search for numpy \n",
    "# get pip install numpy code \n",
    "# execute it by adding ! before pip\n",
    "\n",
    "# In our machine numpy is already available so it says requirement already satisfied"
   ]
  },
  {
   "cell_type": "code",
   "execution_count": 3,
   "id": "9b4aab8c-61d3-46d7-a102-4d6ef815609b",
   "metadata": {},
   "outputs": [
    {
     "name": "stdout",
     "output_type": "stream",
     "text": [
      "Requirement already satisfied: numpy in c:\\users\\admin\\anaconda3\\lib\\site-packages (1.26.4)\n"
     ]
    }
   ],
   "source": [
    "!pip install numpy # it will open anaconda prompt and it will execute pip install command "
   ]
  },
  {
   "cell_type": "code",
   "execution_count": 10,
   "id": "eb5ca280-8742-4744-b972-f7249b49fab3",
   "metadata": {},
   "outputs": [
    {
     "data": {
      "text/plain": [
       "[1, 4, 9, 16, 25]"
      ]
     },
     "execution_count": 10,
     "metadata": {},
     "output_type": "execute_result"
    }
   ],
   "source": [
    "list1 = [1,2,3,4,5]\n",
    "[i**2 for i in list1]"
   ]
  },
  {
   "cell_type": "code",
   "execution_count": 9,
   "id": "ec8b06d0-bc9a-4c50-a8e7-923cc60d5b77",
   "metadata": {},
   "outputs": [
    {
     "name": "stdout",
     "output_type": "stream",
     "text": [
      "[1, 4, 9, 16, 25]\n"
     ]
    }
   ],
   "source": [
    "list1 = [1,2,3,4,5]\n",
    "rs = []\n",
    "for i in list1:\n",
    "    rs.append(i**2)\n",
    "print(rs)"
   ]
  },
  {
   "cell_type": "code",
   "execution_count": 4,
   "id": "8ce50786-e8e3-4e52-a429-a4356be2f73a",
   "metadata": {},
   "outputs": [],
   "source": [
    "import numpy # as numpy module is a default library which is in anaconda ,its not throwing an error"
   ]
  },
  {
   "cell_type": "markdown",
   "id": "0faa8e31-3c84-4ae5-96d1-42eef5a3e29a",
   "metadata": {},
   "source": [
    "#### Creat an array"
   ]
  },
  {
   "cell_type": "code",
   "execution_count": 6,
   "id": "77c9165a-6b55-4cbb-821f-5f9250e26e61",
   "metadata": {},
   "outputs": [
    {
     "data": {
      "text/plain": [
       "array([1, 2, 3, 4])"
      ]
     },
     "execution_count": 6,
     "metadata": {},
     "output_type": "execute_result"
    }
   ],
   "source": [
    "ar1 = numpy.array([1,2,3,4])\n",
    "ar1"
   ]
  },
  {
   "cell_type": "code",
   "execution_count": 7,
   "id": "eea32437-46bd-45ec-a768-47345b025f8e",
   "metadata": {},
   "outputs": [
    {
     "data": {
      "text/plain": [
       "numpy.ndarray"
      ]
     },
     "execution_count": 7,
     "metadata": {},
     "output_type": "execute_result"
    }
   ],
   "source": [
    "type(ar1) # n dimensional array"
   ]
  },
  {
   "cell_type": "code",
   "execution_count": 8,
   "id": "853a950e-7167-4e63-803b-488e9ed33081",
   "metadata": {},
   "outputs": [
    {
     "data": {
      "text/plain": [
       "array([ 1,  4,  9, 16])"
      ]
     },
     "execution_count": 8,
     "metadata": {},
     "output_type": "execute_result"
    }
   ],
   "source": [
    "ar1**2"
   ]
  },
  {
   "cell_type": "code",
   "execution_count": 11,
   "id": "efc19fa6-881e-4efc-b08c-5a128441edd8",
   "metadata": {},
   "outputs": [],
   "source": [
    "import numpy as np"
   ]
  },
  {
   "cell_type": "code",
   "execution_count": 12,
   "id": "c34a2e74-2bbe-456d-837b-13532151c7bf",
   "metadata": {},
   "outputs": [
    {
     "data": {
      "text/plain": [
       "array([1, 2, 3])"
      ]
     },
     "execution_count": 12,
     "metadata": {},
     "output_type": "execute_result"
    }
   ],
   "source": [
    "np.array([1,2,3])"
   ]
  },
  {
   "cell_type": "code",
   "execution_count": 13,
   "id": "8d32bd7a-33bd-4f20-9246-1f70d3fd09d3",
   "metadata": {},
   "outputs": [
    {
     "data": {
      "text/plain": [
       "array([[0., 0.],\n",
       "       [0., 0.],\n",
       "       [0., 0.]])"
      ]
     },
     "execution_count": 13,
     "metadata": {},
     "output_type": "execute_result"
    }
   ],
   "source": [
    "np.zeros([3,2]) # shape --> 3,2 --> 3 rows and 2 columns \n",
    "# create an array fill with zeros"
   ]
  },
  {
   "cell_type": "code",
   "execution_count": 20,
   "id": "4bbb7f2a-efd5-4143-9c3e-6a9e963651b7",
   "metadata": {},
   "outputs": [
    {
     "data": {
      "text/plain": [
       "array([[0.27462815, 0.67808112],\n",
       "       [0.88442454, 0.78202368],\n",
       "       [0.48161151, 0.47094772]])"
      ]
     },
     "execution_count": 20,
     "metadata": {},
     "output_type": "execute_result"
    }
   ],
   "source": [
    "np.random.random([3,2])\n",
    "# creates a random array between 0 and 1"
   ]
  },
  {
   "cell_type": "code",
   "execution_count": null,
   "id": "e2bab018-1161-47ac-a555-9c8915fb1ccf",
   "metadata": {},
   "outputs": [],
   "source": []
  },
  {
   "cell_type": "code",
   "execution_count": null,
   "id": "745a0b24-90de-49f9-be66-f53eace8cf5b",
   "metadata": {},
   "outputs": [],
   "source": []
  }
 ],
 "metadata": {
  "kernelspec": {
   "display_name": "Python 3 (ipykernel)",
   "language": "python",
   "name": "python3"
  },
  "language_info": {
   "codemirror_mode": {
    "name": "ipython",
    "version": 3
   },
   "file_extension": ".py",
   "mimetype": "text/x-python",
   "name": "python",
   "nbconvert_exporter": "python",
   "pygments_lexer": "ipython3",
   "version": "3.11.7"
  },
  "widgets": {
   "application/vnd.jupyter.widget-state+json": {
    "state": {},
    "version_major": 2,
    "version_minor": 0
   }
  }
 },
 "nbformat": 4,
 "nbformat_minor": 5
}
