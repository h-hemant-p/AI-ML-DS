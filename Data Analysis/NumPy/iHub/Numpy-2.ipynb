{
 "cells": [
  {
   "cell_type": "code",
   "execution_count": 1,
   "id": "e8f7ef89-17ec-482a-bdfd-978004e15c62",
   "metadata": {},
   "outputs": [],
   "source": [
    "import numpy as np"
   ]
  },
  {
   "cell_type": "code",
   "execution_count": 2,
   "id": "04115206-7b4d-4131-b07e-d12e18d3675a",
   "metadata": {},
   "outputs": [
    {
     "data": {
      "text/plain": [
       "array(['a', 'b', 'c'], dtype='<U1')"
      ]
     },
     "execution_count": 2,
     "metadata": {},
     "output_type": "execute_result"
    }
   ],
   "source": [
    "np.array(['a','b','c'])"
   ]
  },
  {
   "cell_type": "code",
   "execution_count": 3,
   "id": "d644ee29-a09a-4aac-bdb4-020d3d477f98",
   "metadata": {},
   "outputs": [
    {
     "data": {
      "text/plain": [
       "array([ True, False,  True])"
      ]
     },
     "execution_count": 3,
     "metadata": {},
     "output_type": "execute_result"
    }
   ],
   "source": [
    "np.array([True,False,True])"
   ]
  },
  {
   "cell_type": "code",
   "execution_count": null,
   "id": "8bcbd4e0-d1f8-472f-b06f-08b4bf52a9b1",
   "metadata": {},
   "outputs": [],
   "source": []
  },
  {
   "cell_type": "markdown",
   "id": "5b246573-7406-4225-8b1e-49e2a71ba2c7",
   "metadata": {},
   "source": [
    "#### Array Initialization"
   ]
  },
  {
   "cell_type": "code",
   "execution_count": 4,
   "id": "a45b3ce7-b1da-4d85-911d-c3af500a2536",
   "metadata": {},
   "outputs": [
    {
     "data": {
      "text/plain": [
       "array([[10, 10, 10, 10],\n",
       "       [10, 10, 10, 10],\n",
       "       [10, 10, 10, 10]])"
      ]
     },
     "execution_count": 4,
     "metadata": {},
     "output_type": "execute_result"
    }
   ],
   "source": [
    "np.full([3,4], 10) # 2 parameters ( shape, value)\n",
    "# is to create an array with 3 rows and 4 cols and fill the array with value 10"
   ]
  },
  {
   "cell_type": "code",
   "execution_count": 5,
   "id": "105e6ab3-1c39-4a9f-b255-308b3ab5a9d2",
   "metadata": {},
   "outputs": [
    {
     "data": {
      "text/plain": [
       "array([['a', 'a'],\n",
       "       ['a', 'a']], dtype='<U1')"
      ]
     },
     "execution_count": 5,
     "metadata": {},
     "output_type": "execute_result"
    }
   ],
   "source": [
    "np.full([2,2], 'a') "
   ]
  },
  {
   "cell_type": "code",
   "execution_count": 6,
   "id": "baec0601-6c35-4683-924c-43fb05019621",
   "metadata": {},
   "outputs": [
    {
     "data": {
      "text/plain": [
       "range(0, 5)"
      ]
     },
     "execution_count": 6,
     "metadata": {},
     "output_type": "execute_result"
    }
   ],
   "source": [
    "range(0,5)"
   ]
  },
  {
   "cell_type": "code",
   "execution_count": 9,
   "id": "aca109cf-324c-48d5-bbf0-8b43ddf4bb57",
   "metadata": {},
   "outputs": [
    {
     "name": "stdout",
     "output_type": "stream",
     "text": [
      "01234"
     ]
    }
   ],
   "source": [
    "for i in range(0,5):\n",
    "    print(i,end = '')"
   ]
  },
  {
   "cell_type": "code",
   "execution_count": 10,
   "id": "58c0742c-fee5-4a56-895f-3430b94ae38d",
   "metadata": {},
   "outputs": [
    {
     "data": {
      "text/plain": [
       "[0, 1, 2, 3]"
      ]
     },
     "execution_count": 10,
     "metadata": {},
     "output_type": "execute_result"
    }
   ],
   "source": [
    "list(range(0,4))"
   ]
  },
  {
   "cell_type": "code",
   "execution_count": 11,
   "id": "c6e6e380-ebc6-4a00-ba40-279200b286e4",
   "metadata": {},
   "outputs": [
    {
     "data": {
      "text/plain": [
       "[0, 2, 4, 6, 8]"
      ]
     },
     "execution_count": 11,
     "metadata": {},
     "output_type": "execute_result"
    }
   ],
   "source": [
    "list(range(0,10,2))"
   ]
  },
  {
   "cell_type": "code",
   "execution_count": 12,
   "id": "f123625b-cd8e-4d09-81b6-75f3e075e689",
   "metadata": {},
   "outputs": [
    {
     "data": {
      "text/plain": [
       "array([0, 2, 4, 6, 8])"
      ]
     },
     "execution_count": 12,
     "metadata": {},
     "output_type": "execute_result"
    }
   ],
   "source": [
    "np.arange(0,10,2) # start , end-1, step-1"
   ]
  },
  {
   "cell_type": "code",
   "execution_count": 13,
   "id": "30dac0d9-6c24-40f1-bd6b-4ea976650548",
   "metadata": {},
   "outputs": [
    {
     "data": {
      "text/plain": [
       "array([1, 4, 7])"
      ]
     },
     "execution_count": 13,
     "metadata": {},
     "output_type": "execute_result"
    }
   ],
   "source": [
    "np.arange(1,10,3) # start , end-1, step-1"
   ]
  },
  {
   "cell_type": "code",
   "execution_count": 14,
   "id": "b572cad5-b479-4758-95de-10138358ad80",
   "metadata": {},
   "outputs": [
    {
     "data": {
      "text/plain": [
       "array([ 0.,  2.,  4.,  6.,  8., 10.])"
      ]
     },
     "execution_count": 14,
     "metadata": {},
     "output_type": "execute_result"
    }
   ],
   "source": [
    "np.linspace(0,10,6) # start ,end(including), count of values to generate\n",
    "# from 0 including 10 ,will generate 6 numbers which has equal difference"
   ]
  },
  {
   "cell_type": "code",
   "execution_count": 15,
   "id": "51bb2216-6dbb-4a03-a2be-2b1654a7cc0e",
   "metadata": {},
   "outputs": [
    {
     "data": {
      "text/plain": [
       "array([ 0.        ,  1.42857143,  2.85714286,  4.28571429,  5.71428571,\n",
       "        7.14285714,  8.57142857, 10.        ])"
      ]
     },
     "execution_count": 15,
     "metadata": {},
     "output_type": "execute_result"
    }
   ],
   "source": [
    "np.linspace(0,10,8) \n",
    "# from 0 till 10 generate 8 numbers which should have equal difference"
   ]
  },
  {
   "cell_type": "code",
   "execution_count": null,
   "id": "42ebbb9c-a8ce-4956-9f09-23eae91ebc0b",
   "metadata": {},
   "outputs": [],
   "source": [
    "# Attribute Error\n",
    "# 1. spelling \n",
    "# 2. case sensitive \n",
    "# 3. function doesnt exisit"
   ]
  },
  {
   "cell_type": "markdown",
   "id": "5ab5dabf-1c07-4bb5-90f1-89d7097fb38c",
   "metadata": {},
   "source": [
    "#### Array Inspection"
   ]
  },
  {
   "cell_type": "code",
   "execution_count": 24,
   "id": "42b5650b-e85e-4c1f-ad09-ebd526b96e9e",
   "metadata": {},
   "outputs": [
    {
     "data": {
      "text/plain": [
       "array([ 1,  2,  3,  4,  5,  6,  7,  8,  9, 10, 11, 12, 13, 14, 15, 16, 17,\n",
       "       18, 19, 20, 21, 22, 23, 24])"
      ]
     },
     "execution_count": 24,
     "metadata": {},
     "output_type": "execute_result"
    }
   ],
   "source": [
    "ar1 = np.arange(1,25)\n",
    "ar1"
   ]
  },
  {
   "cell_type": "code",
   "execution_count": 25,
   "id": "b209f260-6adc-4811-8c42-b7e6ff023146",
   "metadata": {},
   "outputs": [
    {
     "data": {
      "text/plain": [
       "24"
      ]
     },
     "execution_count": 25,
     "metadata": {},
     "output_type": "execute_result"
    }
   ],
   "source": [
    "ar1.size # no.of elements"
   ]
  },
  {
   "cell_type": "code",
   "execution_count": 27,
   "id": "3d361e96-0028-4fb1-82bc-4bd5395a9c04",
   "metadata": {},
   "outputs": [
    {
     "data": {
      "text/plain": [
       "numpy.ndarray"
      ]
     },
     "execution_count": 27,
     "metadata": {},
     "output_type": "execute_result"
    }
   ],
   "source": [
    "type(ar1)"
   ]
  },
  {
   "cell_type": "code",
   "execution_count": 28,
   "id": "13f26bfd-34a4-4f3e-ac00-23d9272ee079",
   "metadata": {},
   "outputs": [
    {
     "data": {
      "text/plain": [
       "1"
      ]
     },
     "execution_count": 28,
     "metadata": {},
     "output_type": "execute_result"
    }
   ],
   "source": [
    "ar1.ndim #no.of dimensions"
   ]
  },
  {
   "cell_type": "code",
   "execution_count": null,
   "id": "7581ef3c-216f-41fe-818b-ad4ed3a1b8a3",
   "metadata": {},
   "outputs": [],
   "source": [
    "# if shape needs to be altered then size of array should match with no.of rows* columns\n",
    "24 = 1*24\n",
    "2*12\n",
    "3*8\n",
    "4*6"
   ]
  },
  {
   "cell_type": "code",
   "execution_count": 30,
   "id": "f76619db-e970-466e-9573-4078709d4bea",
   "metadata": {},
   "outputs": [
    {
     "data": {
      "text/plain": [
       "array([[ 1,  2,  3,  4],\n",
       "       [ 5,  6,  7,  8],\n",
       "       [ 9, 10, 11, 12],\n",
       "       [13, 14, 15, 16],\n",
       "       [17, 18, 19, 20],\n",
       "       [21, 22, 23, 24]])"
      ]
     },
     "execution_count": 30,
     "metadata": {},
     "output_type": "execute_result"
    }
   ],
   "source": [
    "ar2 =  ar1.reshape(6,4)\n",
    "ar2"
   ]
  },
  {
   "cell_type": "code",
   "execution_count": 31,
   "id": "c8c3491f-b8c4-4079-8877-aa251e4459fa",
   "metadata": {},
   "outputs": [
    {
     "data": {
      "text/plain": [
       "2"
      ]
     },
     "execution_count": 31,
     "metadata": {},
     "output_type": "execute_result"
    }
   ],
   "source": [
    "ar2.ndim"
   ]
  },
  {
   "cell_type": "code",
   "execution_count": 32,
   "id": "ce1ab01b-1a3f-471a-9b44-6e1e1b151deb",
   "metadata": {},
   "outputs": [
    {
     "ename": "ValueError",
     "evalue": "cannot reshape array of size 24 into shape (5,5)",
     "output_type": "error",
     "traceback": [
      "\u001b[1;31m---------------------------------------------------------------------------\u001b[0m",
      "\u001b[1;31mValueError\u001b[0m                                Traceback (most recent call last)",
      "Cell \u001b[1;32mIn[32], line 1\u001b[0m\n\u001b[1;32m----> 1\u001b[0m ar1\u001b[38;5;241m.\u001b[39mreshape(\u001b[38;5;241m5\u001b[39m,\u001b[38;5;241m5\u001b[39m)\n",
      "\u001b[1;31mValueError\u001b[0m: cannot reshape array of size 24 into shape (5,5)"
     ]
    }
   ],
   "source": [
    "ar1.reshape(5,5)\n",
    "# 5*5!= 24"
   ]
  },
  {
   "cell_type": "code",
   "execution_count": 33,
   "id": "321c82d6-07ab-40f6-a1bf-1e59ca5110f3",
   "metadata": {},
   "outputs": [
    {
     "ename": "ValueError",
     "evalue": "cannot reshape array of size 24 into shape (3,3)",
     "output_type": "error",
     "traceback": [
      "\u001b[1;31m---------------------------------------------------------------------------\u001b[0m",
      "\u001b[1;31mValueError\u001b[0m                                Traceback (most recent call last)",
      "Cell \u001b[1;32mIn[33], line 1\u001b[0m\n\u001b[1;32m----> 1\u001b[0m ar1\u001b[38;5;241m.\u001b[39mreshape(\u001b[38;5;241m3\u001b[39m,\u001b[38;5;241m3\u001b[39m)\n",
      "\u001b[1;31mValueError\u001b[0m: cannot reshape array of size 24 into shape (3,3)"
     ]
    }
   ],
   "source": [
    "ar1.reshape(3,3)\n",
    "# 3*3!= 24"
   ]
  },
  {
   "cell_type": "code",
   "execution_count": 42,
   "id": "abe1e664-5195-4070-9e9c-4a2e671c3142",
   "metadata": {},
   "outputs": [
    {
     "data": {
      "text/plain": [
       "array([[ 1,  2,  3,  4],\n",
       "       [ 5,  6,  7,  8],\n",
       "       [ 9, 10, 11, 12],\n",
       "       [13, 14, 15, 16],\n",
       "       [17, 18, 19, 20],\n",
       "       [21, 22, 23, 24]])"
      ]
     },
     "execution_count": 42,
     "metadata": {},
     "output_type": "execute_result"
    }
   ],
   "source": [
    "ar2= np.arange(1,25).reshape(6,4)\n",
    "ar2"
   ]
  },
  {
   "cell_type": "code",
   "execution_count": 40,
   "id": "ae60a569-422c-40a6-b195-35e2a127f6e2",
   "metadata": {},
   "outputs": [
    {
     "data": {
      "text/plain": [
       "3"
      ]
     },
     "execution_count": 40,
     "metadata": {},
     "output_type": "execute_result"
    }
   ],
   "source": [
    "ar3= np.arange(1,25).reshape(3,2,4)\n",
    "ar3.ndim"
   ]
  },
  {
   "cell_type": "code",
   "execution_count": 41,
   "id": "04f8052b-d222-456b-9283-8a50de4468b7",
   "metadata": {},
   "outputs": [
    {
     "data": {
      "text/plain": [
       "array([[[ 1,  2,  3,  4],\n",
       "        [ 5,  6,  7,  8]],\n",
       "\n",
       "       [[ 9, 10, 11, 12],\n",
       "        [13, 14, 15, 16]],\n",
       "\n",
       "       [[17, 18, 19, 20],\n",
       "        [21, 22, 23, 24]]])"
      ]
     },
     "execution_count": 41,
     "metadata": {},
     "output_type": "execute_result"
    }
   ],
   "source": [
    "ar3"
   ]
  },
  {
   "cell_type": "code",
   "execution_count": 45,
   "id": "d5826459-dcf5-4a18-abe4-162963229d91",
   "metadata": {},
   "outputs": [
    {
     "data": {
      "text/plain": [
       "dtype('int32')"
      ]
     },
     "execution_count": 45,
     "metadata": {},
     "output_type": "execute_result"
    }
   ],
   "source": [
    "ar2.dtype"
   ]
  },
  {
   "cell_type": "code",
   "execution_count": 46,
   "id": "1e65d9d7-bc9e-46a7-b3f1-bf53ec6e787b",
   "metadata": {},
   "outputs": [
    {
     "data": {
      "text/plain": [
       "(6, 4)"
      ]
     },
     "execution_count": 46,
     "metadata": {},
     "output_type": "execute_result"
    }
   ],
   "source": [
    "ar2.shape"
   ]
  },
  {
   "cell_type": "code",
   "execution_count": null,
   "id": "60742c53-1722-42bb-aa3a-d30a370c6d72",
   "metadata": {},
   "outputs": [],
   "source": []
  },
  {
   "cell_type": "markdown",
   "id": "44cc9816-0c08-4f24-a47f-8edf031dcf88",
   "metadata": {},
   "source": [
    "#### Array Mathematics"
   ]
  },
  {
   "cell_type": "code",
   "execution_count": 47,
   "id": "828983c7-a96d-4314-8e7a-1c325d39ae91",
   "metadata": {},
   "outputs": [
    {
     "data": {
      "text/plain": [
       "array([[10, 20],\n",
       "       [30, 40]])"
      ]
     },
     "execution_count": 47,
     "metadata": {},
     "output_type": "execute_result"
    }
   ],
   "source": [
    "ar1 = np.array([[10,20],[30,40]])\n",
    "ar1"
   ]
  },
  {
   "cell_type": "code",
   "execution_count": 48,
   "id": "76c8d2b8-afd2-4f65-9474-2287dc14b98a",
   "metadata": {},
   "outputs": [
    {
     "data": {
      "text/plain": [
       "100"
      ]
     },
     "execution_count": 48,
     "metadata": {},
     "output_type": "execute_result"
    }
   ],
   "source": [
    "np.sum(ar1) # sum all the numbers"
   ]
  },
  {
   "cell_type": "code",
   "execution_count": 49,
   "id": "02bc17a6-03fe-48e2-8034-f9466c9a843b",
   "metadata": {},
   "outputs": [
    {
     "data": {
      "text/plain": [
       "array([40, 60])"
      ]
     },
     "execution_count": 49,
     "metadata": {},
     "output_type": "execute_result"
    }
   ],
   "source": [
    "np.sum(ar1, axis = 0) # axis = 0 ---> perform summation across rows"
   ]
  },
  {
   "cell_type": "code",
   "execution_count": 50,
   "id": "6a912579-e61b-439f-9569-21aab7a256af",
   "metadata": {},
   "outputs": [
    {
     "data": {
      "text/plain": [
       "array([30, 70])"
      ]
     },
     "execution_count": 50,
     "metadata": {},
     "output_type": "execute_result"
    }
   ],
   "source": [
    "np.sum(ar1, axis = 1) # axis = 1 ---> perform summation across columns"
   ]
  },
  {
   "cell_type": "code",
   "execution_count": 51,
   "id": "4eac9a50-2354-4347-9218-734de1821fb5",
   "metadata": {},
   "outputs": [
    {
     "name": "stdout",
     "output_type": "stream",
     "text": [
      "-10\n",
      "200\n",
      "0.5\n"
     ]
    }
   ],
   "source": [
    "print(np.subtract(10,20))\n",
    "print(np.multiply(10,20))\n",
    "print(np.divide(10,20))"
   ]
  },
  {
   "cell_type": "code",
   "execution_count": 52,
   "id": "3482c9ef-dc53-4628-abce-5a0a822079df",
   "metadata": {},
   "outputs": [
    {
     "name": "stdout",
     "output_type": "stream",
     "text": [
      "2.302585092994046\n",
      "22026.465794806718\n",
      "3.1622776601683795\n",
      "-0.5440211108893698\n"
     ]
    }
   ],
   "source": [
    "print(np.log(10))\n",
    "print(np.exp(10))\n",
    "print(np.sqrt(10))\n",
    "print(np.sin(10))"
   ]
  },
  {
   "cell_type": "code",
   "execution_count": 53,
   "id": "685ef746-84ec-427b-9429-47d0937f89f2",
   "metadata": {},
   "outputs": [
    {
     "data": {
      "text/plain": [
       "30.0"
      ]
     },
     "execution_count": 53,
     "metadata": {},
     "output_type": "execute_result"
    }
   ],
   "source": [
    "np.mean([10,20,30,40,50]) # average = sum/total --> (10+20+30+40+50)/5"
   ]
  },
  {
   "cell_type": "code",
   "execution_count": 54,
   "id": "d3702c1d-5a7b-4f84-871a-2cad8be228c1",
   "metadata": {},
   "outputs": [
    {
     "data": {
      "text/plain": [
       "10"
      ]
     },
     "execution_count": 54,
     "metadata": {},
     "output_type": "execute_result"
    }
   ],
   "source": [
    "np.min([10,20,30,40,50]) # average = sum/total --> (10+20+30+40+50)/5"
   ]
  },
  {
   "cell_type": "code",
   "execution_count": 55,
   "id": "d6f71c72-5fb5-4cff-af70-62ecb8d336f7",
   "metadata": {},
   "outputs": [
    {
     "data": {
      "text/plain": [
       "50"
      ]
     },
     "execution_count": 55,
     "metadata": {},
     "output_type": "execute_result"
    }
   ],
   "source": [
    "np.max([10,20,30,40,50]) # average = sum/total --> (10+20+30+40+50)/5"
   ]
  },
  {
   "cell_type": "code",
   "execution_count": null,
   "id": "82f7c04c-c07a-40dd-b9a4-6e1277f529a9",
   "metadata": {},
   "outputs": [],
   "source": []
  },
  {
   "cell_type": "markdown",
   "id": "dfe6334f-c6e4-41ee-bd87-9fe962a2cc88",
   "metadata": {},
   "source": [
    "#### Indexing"
   ]
  },
  {
   "cell_type": "code",
   "execution_count": 56,
   "id": "c586aa61-8957-466e-856b-af0d9a5a5c60",
   "metadata": {},
   "outputs": [
    {
     "data": {
      "text/plain": [
       "'b'"
      ]
     },
     "execution_count": 56,
     "metadata": {},
     "output_type": "execute_result"
    }
   ],
   "source": [
    "list1 = ['a','b','c','d','e']\n",
    "list1[1]"
   ]
  },
  {
   "cell_type": "code",
   "execution_count": 58,
   "id": "8539531e-fd7d-4bc9-a3d4-25886c27585a",
   "metadata": {},
   "outputs": [
    {
     "data": {
      "text/plain": [
       "['b', 'c']"
      ]
     },
     "execution_count": 58,
     "metadata": {},
     "output_type": "execute_result"
    }
   ],
   "source": [
    "list1[1:3] #b,c"
   ]
  },
  {
   "cell_type": "code",
   "execution_count": null,
   "id": "8fcc792f-e47a-49dc-92b0-06193370d5d8",
   "metadata": {},
   "outputs": [],
   "source": [
    "# index will always start with zero\n",
    "# end value is not included "
   ]
  },
  {
   "cell_type": "code",
   "execution_count": 61,
   "id": "01522a1e-88cd-40e0-a402-f76a74592d0b",
   "metadata": {},
   "outputs": [
    {
     "data": {
      "text/plain": [
       "array([11, 12, 13, 14, 15, 16, 17, 18, 19])"
      ]
     },
     "execution_count": 61,
     "metadata": {},
     "output_type": "execute_result"
    }
   ],
   "source": [
    "ar1 = np.arange(11,20)\n",
    "ar1"
   ]
  },
  {
   "cell_type": "code",
   "execution_count": 62,
   "id": "dc2d743c-179f-4755-bb63-dbaa75829c37",
   "metadata": {},
   "outputs": [
    {
     "data": {
      "text/plain": [
       "13"
      ]
     },
     "execution_count": 62,
     "metadata": {},
     "output_type": "execute_result"
    }
   ],
   "source": [
    "ar1[2]"
   ]
  },
  {
   "cell_type": "code",
   "execution_count": 63,
   "id": "fd044ce5-3cd5-4592-b6cf-97e84a1aadeb",
   "metadata": {},
   "outputs": [
    {
     "data": {
      "text/plain": [
       "array([13, 14, 15])"
      ]
     },
     "execution_count": 63,
     "metadata": {},
     "output_type": "execute_result"
    }
   ],
   "source": [
    "ar1[2:5]"
   ]
  },
  {
   "cell_type": "code",
   "execution_count": 64,
   "id": "2c54f5b2-da20-4c8b-8d31-9c4f32c78795",
   "metadata": {},
   "outputs": [
    {
     "data": {
      "text/plain": [
       "array([[ 1,  2,  3,  4],\n",
       "       [ 5,  6,  7,  8],\n",
       "       [ 9, 10, 11, 12],\n",
       "       [13, 14, 15, 16],\n",
       "       [17, 18, 19, 20],\n",
       "       [21, 22, 23, 24]])"
      ]
     },
     "execution_count": 64,
     "metadata": {},
     "output_type": "execute_result"
    }
   ],
   "source": [
    "ar1 = np.arange(1,25).reshape(6,4)\n",
    "ar1"
   ]
  },
  {
   "cell_type": "code",
   "execution_count": 65,
   "id": "f1b69b41-1242-4884-a386-8c8ee67461d3",
   "metadata": {},
   "outputs": [
    {
     "data": {
      "text/plain": [
       "array([[10, 11],\n",
       "       [14, 15]])"
      ]
     },
     "execution_count": 65,
     "metadata": {},
     "output_type": "execute_result"
    }
   ],
   "source": [
    "ar1[2:4,1:3]"
   ]
  },
  {
   "cell_type": "code",
   "execution_count": 66,
   "id": "cdd59a57-43cd-4cbc-9d33-e2086f5de1cd",
   "metadata": {},
   "outputs": [
    {
     "data": {
      "text/plain": [
       "array([[ 9, 10, 11, 12],\n",
       "       [13, 14, 15, 16],\n",
       "       [17, 18, 19, 20],\n",
       "       [21, 22, 23, 24]])"
      ]
     },
     "execution_count": 66,
     "metadata": {},
     "output_type": "execute_result"
    }
   ],
   "source": [
    "ar1[2:6,0:4]"
   ]
  },
  {
   "cell_type": "code",
   "execution_count": 67,
   "id": "c3f99208-054a-4494-9a11-8640fd565b84",
   "metadata": {},
   "outputs": [],
   "source": [
    "# no starting or ending value mentioned --> automatically picks 0 for start and whatever is available as last value"
   ]
  },
  {
   "cell_type": "code",
   "execution_count": 69,
   "id": "d79bacc9-9337-4b45-ac11-104af08862f5",
   "metadata": {},
   "outputs": [
    {
     "data": {
      "text/plain": [
       "array([[ 9, 10, 11, 12],\n",
       "       [13, 14, 15, 16],\n",
       "       [17, 18, 19, 20],\n",
       "       [21, 22, 23, 24]])"
      ]
     },
     "execution_count": 69,
     "metadata": {},
     "output_type": "execute_result"
    }
   ],
   "source": [
    "ar1[2:,0:4] # 2: --> as no end value mentioned python will execute till last"
   ]
  },
  {
   "cell_type": "code",
   "execution_count": 70,
   "id": "4b41f6d2-24ed-4186-84bb-4a31b8abd7f0",
   "metadata": {},
   "outputs": [
    {
     "data": {
      "text/plain": [
       "array([[ 9, 10, 11, 12],\n",
       "       [13, 14, 15, 16],\n",
       "       [17, 18, 19, 20],\n",
       "       [21, 22, 23, 24]])"
      ]
     },
     "execution_count": 70,
     "metadata": {},
     "output_type": "execute_result"
    }
   ],
   "source": [
    "ar1[2:,0:]"
   ]
  },
  {
   "cell_type": "code",
   "execution_count": 71,
   "id": "5501a809-fc7f-4a35-a419-833461ad026b",
   "metadata": {},
   "outputs": [
    {
     "data": {
      "text/plain": [
       "array([[ 9, 10, 11, 12],\n",
       "       [13, 14, 15, 16],\n",
       "       [17, 18, 19, 20],\n",
       "       [21, 22, 23, 24]])"
      ]
     },
     "execution_count": 71,
     "metadata": {},
     "output_type": "execute_result"
    }
   ],
   "source": [
    "ar1[2:] # it will extract only rows , including every columns"
   ]
  },
  {
   "cell_type": "code",
   "execution_count": 73,
   "id": "8beb4911-2a5a-4740-bdc1-aac88a3b46b3",
   "metadata": {},
   "outputs": [
    {
     "data": {
      "text/plain": [
       "array([[15, 16],\n",
       "       [19, 20]])"
      ]
     },
     "execution_count": 73,
     "metadata": {},
     "output_type": "execute_result"
    }
   ],
   "source": [
    "ar1[3:5,2:4]"
   ]
  },
  {
   "cell_type": "code",
   "execution_count": 72,
   "id": "87c0926a-87d6-4130-85ab-b6e4e87d28a7",
   "metadata": {},
   "outputs": [
    {
     "data": {
      "text/plain": [
       "array([[ 2,  3],\n",
       "       [ 6,  7],\n",
       "       [10, 11],\n",
       "       [14, 15],\n",
       "       [18, 19],\n",
       "       [22, 23]])"
      ]
     },
     "execution_count": 72,
     "metadata": {},
     "output_type": "execute_result"
    }
   ],
   "source": [
    "ar1[:, 1:3] # extract all rows and 1,2 columns"
   ]
  }
 ],
 "metadata": {
  "kernelspec": {
   "display_name": "Python 3 (ipykernel)",
   "language": "python",
   "name": "python3"
  },
  "language_info": {
   "codemirror_mode": {
    "name": "ipython",
    "version": 3
   },
   "file_extension": ".py",
   "mimetype": "text/x-python",
   "name": "python",
   "nbconvert_exporter": "python",
   "pygments_lexer": "ipython3",
   "version": "3.11.7"
  },
  "widgets": {
   "application/vnd.jupyter.widget-state+json": {
    "state": {},
    "version_major": 2,
    "version_minor": 0
   }
  }
 },
 "nbformat": 4,
 "nbformat_minor": 5
}
