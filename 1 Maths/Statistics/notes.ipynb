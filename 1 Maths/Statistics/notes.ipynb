{
 "cells": [
  {
   "cell_type": "markdown",
   "id": "b6085100",
   "metadata": {},
   "source": [
    "Population Vs Sample"
   ]
  },
  {
   "cell_type": "markdown",
   "id": "dbda092a",
   "metadata": {},
   "source": [
    "Central Tendency"
   ]
  },
  {
   "cell_type": "markdown",
   "id": "b842df5c",
   "metadata": {},
   "source": []
  }
 ],
 "metadata": {
  "language_info": {
   "name": "python"
  }
 },
 "nbformat": 4,
 "nbformat_minor": 5
}
