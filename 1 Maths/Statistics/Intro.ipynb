{
 "cells": [
  {
   "cell_type": "markdown",
   "id": "2a07ce44",
   "metadata": {},
   "source": [
    "* Mean : Average Value\n",
    "* Median : Middle Value\n",
    "* Mode : Most Frequent Value\n",
    "* Percentage :\n",
    "* Ratio :\n",
    "* Accuracy :\n",
    "* Precision :\n",
    "* Recall :\n",
    "\n",
    "\n"
   ]
  }
 ],
 "metadata": {
  "language_info": {
   "name": "python"
  }
 },
 "nbformat": 4,
 "nbformat_minor": 5
}
