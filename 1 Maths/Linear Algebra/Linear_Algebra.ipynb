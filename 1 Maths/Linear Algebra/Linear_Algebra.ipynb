{
  "nbformat": 4,
  "nbformat_minor": 0,
  "metadata": {
    "colab": {
      "provenance": []
    },
    "kernelspec": {
      "name": "python3",
      "display_name": "Python 3"
    },
    "language_info": {
      "name": "python"
    }
  },
  "cells": [
    {
      "cell_type": "markdown",
      "source": [],
      "metadata": {
        "id": "l8Xv_dH2lu8s"
      }
    },
    {
      "cell_type": "code",
      "execution_count": null,
      "metadata": {
        "id": "N-GZmKzEg_go"
      },
      "outputs": [],
      "source": [
        "#Matrix\n",
        "#Matrix Operation\n",
        "#Transpose of Matrix\n",
        "#Detreminant of Matrix\n",
        "#Inverse of matrix\n",
        "#Rank of matrix\n",
        "#Matix Decomposition\n",
        "#eigen Values and Eigen Vectors"
      ]
    },
    {
      "cell_type": "markdown",
      "source": [
        "Create a Matrix of size 3*3 (3 rows and 3 colums).Perform the following Operation:\n",
        "\n",
        "A)Add 50 to your matrix\n",
        "\n",
        "B)Subtract 20 in your matrix\n",
        "\n",
        "C)Multiply 3 in your matrix\n",
        "\n",
        "D)Divide your matrix by 4."
      ],
      "metadata": {
        "id": "QtSKN3N2mhcn"
      }
    },
    {
      "cell_type": "code",
      "source": [
        "import numpy as np"
      ],
      "metadata": {
        "id": "TvskTd8bmtbt"
      },
      "execution_count": null,
      "outputs": []
    },
    {
      "cell_type": "code",
      "source": [
        "M1=np.random.randint(10,50,size=(3,3))"
      ],
      "metadata": {
        "id": "r1789PUdnKo0"
      },
      "execution_count": null,
      "outputs": []
    },
    {
      "cell_type": "code",
      "source": [
        "M1"
      ],
      "metadata": {
        "colab": {
          "base_uri": "https://localhost:8080/"
        },
        "id": "k3LAajZRnYj1",
        "outputId": "8b96a028-8a68-4848-bb5f-c830e5244208"
      },
      "execution_count": null,
      "outputs": [
        {
          "output_type": "execute_result",
          "data": {
            "text/plain": [
              "array([[33, 30, 24],\n",
              "       [38, 41, 24],\n",
              "       [13, 41, 40]])"
            ]
          },
          "metadata": {},
          "execution_count": 3
        }
      ]
    },
    {
      "cell_type": "code",
      "source": [
        "#Scalar Operations\n",
        "M1+50"
      ],
      "metadata": {
        "colab": {
          "base_uri": "https://localhost:8080/"
        },
        "id": "88_3VppfnZ1g",
        "outputId": "3c44deb6-daff-4152-cee1-9818796342c8"
      },
      "execution_count": null,
      "outputs": [
        {
          "output_type": "execute_result",
          "data": {
            "text/plain": [
              "array([[83, 80, 74],\n",
              "       [88, 91, 74],\n",
              "       [63, 91, 90]])"
            ]
          },
          "metadata": {},
          "execution_count": 4
        }
      ]
    },
    {
      "cell_type": "code",
      "source": [
        "M1-20"
      ],
      "metadata": {
        "colab": {
          "base_uri": "https://localhost:8080/"
        },
        "id": "QEn-HXfbodDC",
        "outputId": "c7bbfb1f-f35f-428b-cb5e-a3941618880c"
      },
      "execution_count": null,
      "outputs": [
        {
          "output_type": "execute_result",
          "data": {
            "text/plain": [
              "array([[13, 10,  4],\n",
              "       [18, 21,  4],\n",
              "       [-7, 21, 20]])"
            ]
          },
          "metadata": {},
          "execution_count": 5
        }
      ]
    },
    {
      "cell_type": "code",
      "source": [
        "M1*3"
      ],
      "metadata": {
        "colab": {
          "base_uri": "https://localhost:8080/"
        },
        "id": "MqcNuvZfog69",
        "outputId": "e6055ce7-879d-4a3f-a2fa-6533690fe966"
      },
      "execution_count": null,
      "outputs": [
        {
          "output_type": "execute_result",
          "data": {
            "text/plain": [
              "array([[ 99,  90,  72],\n",
              "       [114, 123,  72],\n",
              "       [ 39, 123, 120]])"
            ]
          },
          "metadata": {},
          "execution_count": 6
        }
      ]
    },
    {
      "cell_type": "code",
      "source": [
        "M1/4"
      ],
      "metadata": {
        "colab": {
          "base_uri": "https://localhost:8080/"
        },
        "id": "ScTtkQMFolFj",
        "outputId": "92d1498f-45e1-43ce-a063-2f0a1f31b189"
      },
      "execution_count": null,
      "outputs": [
        {
          "output_type": "execute_result",
          "data": {
            "text/plain": [
              "array([[ 8.25,  7.5 ,  6.  ],\n",
              "       [ 9.5 , 10.25,  6.  ],\n",
              "       [ 3.25, 10.25, 10.  ]])"
            ]
          },
          "metadata": {},
          "execution_count": 7
        }
      ]
    },
    {
      "cell_type": "markdown",
      "source": [
        "Create two 3*3 matrices and then perform additon,subtraction,multiplication and division between these two metrices."
      ],
      "metadata": {
        "id": "Q2Q6MQP-otu0"
      }
    },
    {
      "cell_type": "code",
      "source": [
        "M1=np.array([[12,14,16],[10,8,6],[3,4,5]])\n",
        "M2=np.array([[1,4,6],[20,18,16],[13,14,15]])\n",
        "print(M1)"
      ],
      "metadata": {
        "colab": {
          "base_uri": "https://localhost:8080/"
        },
        "id": "HyCUc_1Koo2M",
        "outputId": "e14b22a4-6bf6-4294-e36f-78b7ee7a0a76"
      },
      "execution_count": null,
      "outputs": [
        {
          "output_type": "stream",
          "name": "stdout",
          "text": [
            "[[12 14 16]\n",
            " [10  8  6]\n",
            " [ 3  4  5]]\n"
          ]
        }
      ]
    },
    {
      "cell_type": "code",
      "source": [
        "print(M2)"
      ],
      "metadata": {
        "colab": {
          "base_uri": "https://localhost:8080/"
        },
        "id": "4IqleP68qPA8",
        "outputId": "996ad754-8698-4c0a-df5c-a588232a769b"
      },
      "execution_count": null,
      "outputs": [
        {
          "output_type": "stream",
          "name": "stdout",
          "text": [
            "[[ 1  4  6]\n",
            " [20 18 16]\n",
            " [13 14 15]]\n"
          ]
        }
      ]
    },
    {
      "cell_type": "code",
      "source": [
        "#Matrix Operation\n",
        "M1+M2"
      ],
      "metadata": {
        "colab": {
          "base_uri": "https://localhost:8080/"
        },
        "id": "fx3BKPT4qaaA",
        "outputId": "c8bd64ce-393c-4527-c197-b40920620f58"
      },
      "execution_count": null,
      "outputs": [
        {
          "output_type": "execute_result",
          "data": {
            "text/plain": [
              "array([[13, 18, 22],\n",
              "       [30, 26, 22],\n",
              "       [16, 18, 20]])"
            ]
          },
          "metadata": {},
          "execution_count": 15
        }
      ]
    },
    {
      "cell_type": "code",
      "source": [
        "M1-M2"
      ],
      "metadata": {
        "colab": {
          "base_uri": "https://localhost:8080/"
        },
        "id": "USiYiOEqqf99",
        "outputId": "33539416-e115-4bdc-b11a-f37d2c98f8b4"
      },
      "execution_count": null,
      "outputs": [
        {
          "output_type": "execute_result",
          "data": {
            "text/plain": [
              "array([[ 11,  10,  10],\n",
              "       [-10, -10, -10],\n",
              "       [-10, -10, -10]])"
            ]
          },
          "metadata": {},
          "execution_count": 17
        }
      ]
    },
    {
      "cell_type": "code",
      "source": [
        "M1*M2"
      ],
      "metadata": {
        "colab": {
          "base_uri": "https://localhost:8080/"
        },
        "id": "6Zl78kx4qk8J",
        "outputId": "f9415040-1e0a-4b7a-9346-c1bf784ce091"
      },
      "execution_count": null,
      "outputs": [
        {
          "output_type": "execute_result",
          "data": {
            "text/plain": [
              "array([[ 12,  56,  96],\n",
              "       [200, 144,  96],\n",
              "       [ 39,  56,  75]])"
            ]
          },
          "metadata": {},
          "execution_count": 18
        }
      ]
    },
    {
      "cell_type": "code",
      "source": [
        "M1/M2"
      ],
      "metadata": {
        "colab": {
          "base_uri": "https://localhost:8080/"
        },
        "id": "1syymvrxqnrL",
        "outputId": "40e22b70-a535-424c-bc23-174caa0a0126"
      },
      "execution_count": null,
      "outputs": [
        {
          "output_type": "execute_result",
          "data": {
            "text/plain": [
              "array([[12.        ,  3.5       ,  2.66666667],\n",
              "       [ 0.5       ,  0.44444444,  0.375     ],\n",
              "       [ 0.23076923,  0.28571429,  0.33333333]])"
            ]
          },
          "metadata": {},
          "execution_count": 19
        }
      ]
    },
    {
      "cell_type": "markdown",
      "source": [
        "Perform dot product between two matrix of size(2*2)."
      ],
      "metadata": {
        "id": "M0TDDA1oqvJv"
      }
    },
    {
      "cell_type": "code",
      "source": [
        "M1=np.array([[12,14],[10,8]])\n",
        "M2=np.array([[1,4],[20,16]])\n",
        "\n",
        "print(M1)\n",
        "\n",
        "print(M2)\n",
        "\n",
        "dot_prod=np.dot(M1,M2)\n",
        "print(dot_prod)"
      ],
      "metadata": {
        "colab": {
          "base_uri": "https://localhost:8080/"
        },
        "id": "flw8PvDqqo9N",
        "outputId": "1b45b12d-7a50-4fe1-c5dc-2b5b879d2e08"
      },
      "execution_count": null,
      "outputs": [
        {
          "output_type": "stream",
          "name": "stdout",
          "text": [
            "[[12 14]\n",
            " [10  8]]\n",
            "[[ 1  4]\n",
            " [20 16]]\n",
            "[[292 272]\n",
            " [170 168]]\n"
          ]
        }
      ]
    },
    {
      "cell_type": "markdown",
      "source": [
        "**Note**:Columns of first matrix must be equal to rows of second matrix"
      ],
      "metadata": {
        "id": "JPqPijvgtEFW"
      }
    },
    {
      "cell_type": "markdown",
      "source": [
        "**Tanspose of the Metrix**\n",
        "\n",
        "\n",
        "Create a 3*3 Matrix and perform its Tanspose."
      ],
      "metadata": {
        "id": "NUgAbMYotWJ-"
      }
    },
    {
      "cell_type": "code",
      "source": [
        "M1=np.random.randint(10,50,size=(3,3))"
      ],
      "metadata": {
        "id": "eapNbRYWrxjh"
      },
      "execution_count": null,
      "outputs": []
    },
    {
      "cell_type": "code",
      "source": [
        "M1"
      ],
      "metadata": {
        "colab": {
          "base_uri": "https://localhost:8080/"
        },
        "id": "Oy3GJsz3uZoB",
        "outputId": "732bca4a-fdcd-4476-dca2-dc48e985ad2b"
      },
      "execution_count": null,
      "outputs": [
        {
          "output_type": "execute_result",
          "data": {
            "text/plain": [
              "array([[30, 12, 25],\n",
              "       [42, 14, 11],\n",
              "       [40, 48, 48]])"
            ]
          },
          "metadata": {},
          "execution_count": 32
        }
      ]
    },
    {
      "cell_type": "code",
      "source": [
        "trans_M1=M1.T\n",
        "trans_M1"
      ],
      "metadata": {
        "colab": {
          "base_uri": "https://localhost:8080/"
        },
        "id": "SI98pK43ugTD",
        "outputId": "b58e7420-441b-4e11-9a24-e096102f2cfb"
      },
      "execution_count": null,
      "outputs": [
        {
          "output_type": "execute_result",
          "data": {
            "text/plain": [
              "array([[30, 42, 40],\n",
              "       [12, 14, 48],\n",
              "       [25, 11, 48]])"
            ]
          },
          "metadata": {},
          "execution_count": 35
        }
      ]
    },
    {
      "cell_type": "markdown",
      "source": [
        "**Property1: Tanspose of a Transposed matrix is the original Matrix**"
      ],
      "metadata": {
        "id": "ksf7qPRfuxDr"
      }
    },
    {
      "cell_type": "code",
      "source": [
        "trans_M1.T"
      ],
      "metadata": {
        "colab": {
          "base_uri": "https://localhost:8080/"
        },
        "id": "jkGxJH8LureU",
        "outputId": "446e3d3a-e20a-414a-8eec-e0a0552eac4d"
      },
      "execution_count": null,
      "outputs": [
        {
          "output_type": "execute_result",
          "data": {
            "text/plain": [
              "array([[30, 12, 25],\n",
              "       [42, 14, 11],\n",
              "       [40, 48, 48]])"
            ]
          },
          "metadata": {},
          "execution_count": 36
        }
      ]
    },
    {
      "cell_type": "markdown",
      "source": [
        "**Property2:(Additive Property):(A+B).T=A.T+B.T**"
      ],
      "metadata": {
        "id": "NzT4rwkqvLM1"
      }
    },
    {
      "cell_type": "code",
      "source": [
        "A=np.array([[4,5],[3,8],[20,30]])\n",
        "B=np.array([[12,14],[45,5],[9,8]])\n",
        "\n",
        "x=(A+B).T\n",
        "print(x)\n",
        "\n",
        "y=A.T+B.T\n",
        "print(y)\n",
        "\n",
        "if np.array_equal(x,y):\n",
        "  print(\"Additive property is True\")\n",
        "\n",
        "else:\n",
        "  print(\"Additive Property id False\")"
      ],
      "metadata": {
        "colab": {
          "base_uri": "https://localhost:8080/"
        },
        "id": "UZWMyL4CvCSB",
        "outputId": "ca70e48b-688c-456a-e875-aff73d5391b4"
      },
      "execution_count": null,
      "outputs": [
        {
          "output_type": "stream",
          "name": "stdout",
          "text": [
            "[[16 48 29]\n",
            " [19 13 38]]\n",
            "[[16 48 29]\n",
            " [19 13 38]]\n",
            "Additive property is True\n"
          ]
        }
      ]
    },
    {
      "cell_type": "markdown",
      "source": [
        "**Property3:Multiplication Property of the transpose:(AxB).T=B.TxA.T**"
      ],
      "metadata": {
        "id": "uW4wanD3xirL"
      }
    },
    {
      "cell_type": "code",
      "source": [
        "A=np.array([[4,3,1],[8,9,6],[7,5,7]])\n",
        "B= np.array([[1,2,7],[3,4,5],[5,6,9]])\n",
        "\n",
        "x=np.dot(A,B).T\n",
        "print(x)\n",
        "print()\n",
        "y=B.T.dot(A.T)\n",
        "print(y)\n",
        "\n",
        "if np.array_equal(x,y):\n",
        "  print(\"Multiplicative property is True\")\n",
        "\n",
        "else:\n",
        "  print(\"Multiplicative Property id False\")"
      ],
      "metadata": {
        "colab": {
          "base_uri": "https://localhost:8080/"
        },
        "id": "Fu6QcFKhy1Ym",
        "outputId": "1a4acb2f-9199-4d05-e2bd-cf7c173dd45d"
      },
      "execution_count": null,
      "outputs": [
        {
          "output_type": "stream",
          "name": "stdout",
          "text": [
            "[[ 18  65  57]\n",
            " [ 26  88  76]\n",
            " [ 52 155 137]]\n",
            "\n",
            "[[ 18  65  57]\n",
            " [ 26  88  76]\n",
            " [ 52 155 137]]\n",
            "Multiplicative property is True\n"
          ]
        }
      ]
    },
    {
      "cell_type": "markdown",
      "source": [
        "**Determinant**\n",
        "\n",
        "To find the determinant the matrix should be square(rows and columns be shape).\n",
        "\n",
        "If det!=0,Matrix is Invertible\n",
        "\n",
        "If det=0,Matrix is Not Invertible.\n",
        "\n",
        "Create a 3*3 matrix and find the determinant of the matrix."
      ],
      "metadata": {
        "id": "3VAqapJRz02i"
      }
    },
    {
      "cell_type": "code",
      "source": [
        "M1=np.random.randint(10,50,size=(3,3))\n",
        "M1"
      ],
      "metadata": {
        "colab": {
          "base_uri": "https://localhost:8080/"
        },
        "id": "zn3X8OOwzXIS",
        "outputId": "a7264e18-3ad2-4eff-e092-0481e33e9972"
      },
      "execution_count": null,
      "outputs": [
        {
          "output_type": "execute_result",
          "data": {
            "text/plain": [
              "array([[42, 31, 28],\n",
              "       [26, 44, 47],\n",
              "       [38, 39, 11]])"
            ]
          },
          "metadata": {},
          "execution_count": 60
        }
      ]
    },
    {
      "cell_type": "code",
      "source": [
        "#to find detreminant\n",
        "np.linalg.det(M1)"
      ],
      "metadata": {
        "colab": {
          "base_uri": "https://localhost:8080/"
        },
        "id": "f4nbIRBk1NDA",
        "outputId": "59721de9-dab4-4e46-d870-dc095e1b11ac"
      },
      "execution_count": null,
      "outputs": [
        {
          "output_type": "execute_result",
          "data": {
            "text/plain": [
              "np.float64(-28582.000000000004)"
            ]
          },
          "metadata": {},
          "execution_count": 61
        }
      ]
    },
    {
      "cell_type": "markdown",
      "source": [
        "**Inverse**"
      ],
      "metadata": {
        "id": "PvavrOIa1Yxj"
      }
    },
    {
      "cell_type": "code",
      "source": [
        "#to find the inverse\n",
        "M1_inv=np.linalg.inv(M1)"
      ],
      "metadata": {
        "id": "95-oW6KH1UJG"
      },
      "execution_count": null,
      "outputs": []
    },
    {
      "cell_type": "code",
      "source": [
        "M1_inv"
      ],
      "metadata": {
        "colab": {
          "base_uri": "https://localhost:8080/"
        },
        "id": "Vai_WAYR1g27",
        "outputId": "e78bfc46-c828-453a-86a4-04a62fe9a4aa"
      },
      "execution_count": null,
      "outputs": [
        {
          "output_type": "execute_result",
          "data": {
            "text/plain": [
              "array([[ 0.04719754, -0.02627528, -0.00787209],\n",
              "       [-0.05248058,  0.02106221,  0.04359387],\n",
              "       [ 0.02302148,  0.01609405, -0.03645651]])"
            ]
          },
          "metadata": {},
          "execution_count": 69
        }
      ]
    },
    {
      "cell_type": "code",
      "source": [
        "np.round(M1 @ M1_inv,decimals=4)"
      ],
      "metadata": {
        "colab": {
          "base_uri": "https://localhost:8080/"
        },
        "id": "40q_2qLw1u70",
        "outputId": "5e3f187a-fb96-442a-a2ad-3383cf542288"
      },
      "execution_count": null,
      "outputs": [
        {
          "output_type": "execute_result",
          "data": {
            "text/plain": [
              "array([[ 1., -0.,  0.],\n",
              "       [ 0.,  1.,  0.],\n",
              "       [ 0., -0.,  1.]])"
            ]
          },
          "metadata": {},
          "execution_count": 73
        }
      ]
    },
    {
      "cell_type": "markdown",
      "source": [
        "**Rank**\n",
        "\n",
        "The number of independent rows or colums in matrix."
      ],
      "metadata": {
        "id": "ivk3ORp_3EGZ"
      }
    },
    {
      "cell_type": "code",
      "source": [
        "A=np.array([[1,2],[2,4]])\n",
        "np.linalg.matrix_rank(A)"
      ],
      "metadata": {
        "colab": {
          "base_uri": "https://localhost:8080/"
        },
        "id": "JliErBZ818zF",
        "outputId": "8e09b53e-6db0-4952-b6f2-1a2c34d6d9c1"
      },
      "execution_count": null,
      "outputs": [
        {
          "output_type": "execute_result",
          "data": {
            "text/plain": [
              "np.int64(1)"
            ]
          },
          "metadata": {},
          "execution_count": 75
        }
      ]
    },
    {
      "cell_type": "code",
      "source": [
        "A=np.array([[1,2],[5,6]])\n",
        "np.linalg.matrix_rank(A)"
      ],
      "metadata": {
        "colab": {
          "base_uri": "https://localhost:8080/"
        },
        "id": "nz6aLLM_3hKB",
        "outputId": "68860143-70ec-4b39-b7dc-688cf7393167"
      },
      "execution_count": null,
      "outputs": [
        {
          "output_type": "execute_result",
          "data": {
            "text/plain": [
              "np.int64(2)"
            ]
          },
          "metadata": {},
          "execution_count": 76
        }
      ]
    },
    {
      "cell_type": "markdown",
      "source": [
        "**Eigen Values and Eigen Vectors**"
      ],
      "metadata": {
        "id": "5tksiQoM32xN"
      }
    },
    {
      "cell_type": "code",
      "source": [
        "A=np.array([[1,5],[3,2]])\n",
        "eigVal,eigVec=np.linalg.eig(A)"
      ],
      "metadata": {
        "id": "DGbu5OrW3uBT"
      },
      "execution_count": null,
      "outputs": []
    },
    {
      "cell_type": "code",
      "source": [
        "eigVal"
      ],
      "metadata": {
        "id": "RZJE9PAn4RNf",
        "outputId": "0289b8f7-9c5f-44d1-cb68-2ce3bae9981a",
        "colab": {
          "base_uri": "https://localhost:8080/"
        }
      },
      "execution_count": null,
      "outputs": [
        {
          "output_type": "execute_result",
          "data": {
            "text/plain": [
              "array([-2.40512484,  5.40512484])"
            ]
          },
          "metadata": {},
          "execution_count": 79
        }
      ]
    },
    {
      "cell_type": "code",
      "source": [
        "eigVec"
      ],
      "metadata": {
        "id": "gqhKG4Sz4SLY",
        "outputId": "2c8dbc12-71d6-4869-a335-d1bc26fff012",
        "colab": {
          "base_uri": "https://localhost:8080/"
        }
      },
      "execution_count": null,
      "outputs": [
        {
          "output_type": "execute_result",
          "data": {
            "text/plain": [
              "array([[-0.82653237, -0.75033198],\n",
              "       [ 0.56288918, -0.66106121]])"
            ]
          },
          "metadata": {},
          "execution_count": 80
        }
      ]
    },
    {
      "cell_type": "code",
      "source": [],
      "metadata": {
        "id": "_yjl8OrK4UuT"
      },
      "execution_count": null,
      "outputs": []
    }
  ]
}